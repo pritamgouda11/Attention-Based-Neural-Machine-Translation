{
  "nbformat": 4,
  "nbformat_minor": 0,
  "metadata": {
    "colab": {
      "provenance": []
    },
    "kernelspec": {
      "name": "python3",
      "display_name": "Python 3"
    },
    "language_info": {
      "name": "python"
    }
  },
  "cells": [
    {
      "cell_type": "markdown",
      "source": [
        "Import Necessary Libraries"
      ],
      "metadata": {
        "id": "vQW3S0maIJ6b"
      }
    },
    {
      "cell_type": "code",
      "execution_count": 4,
      "metadata": {
        "id": "tdQfA1DSIFym"
      },
      "outputs": [],
      "source": [
        "import torch\n",
        "import torch.nn as nn\n",
        "from collections import defaultdict\n",
        "import pandas as pd\n"
      ]
    },
    {
      "cell_type": "markdown",
      "source": [
        "Build Vocabulary"
      ],
      "metadata": {
        "id": "OFe8-2utINX5"
      }
    },
    {
      "cell_type": "code",
      "source": [
        "# Function to build the vocabulary\n",
        "def build_vocab(file_path):\n",
        "    # Same as in train.ipynb\n",
        "    input_vocab = defaultdict(lambda: len(input_vocab))\n",
        "    output_vocab = defaultdict(lambda: len(output_vocab))\n",
        "\n",
        "    input_vocab['<PAD>'] = 0\n",
        "    input_vocab['<UNK>'] = 1\n",
        "    output_vocab['<PAD>'] = 0\n",
        "    output_vocab['<UNK>'] = 1\n",
        "    output_vocab['<SOS>'] = 2\n",
        "    output_vocab['<EOS>'] = 3\n",
        "\n",
        "    with open(file_path, 'r') as file:\n",
        "        for line in file:\n",
        "            input_sent, output_sent = line.strip().split(',')\n",
        "            input_sent = input_sent.strip().strip(\"'\")\n",
        "            output_sent = output_sent.strip().strip(\"'\")\n",
        "\n",
        "            for char in input_sent:\n",
        "                input_vocab[char]\n",
        "            for char in output_sent:\n",
        "                output_vocab[char]\n",
        "\n",
        "    input_vocab = dict(input_vocab)\n",
        "    output_vocab = dict(output_vocab)\n",
        "    input_vocab_inv = {v: k for k, v in input_vocab.items()}\n",
        "    output_vocab_inv = {v: k for k, v in output_vocab.items()}\n",
        "\n",
        "    return input_vocab, output_vocab, input_vocab_inv, output_vocab_inv\n",
        "\n",
        "# Build vocabularies\n",
        "input_vocab, output_vocab, input_vocab_inv, output_vocab_inv = build_vocab('/content/Assignment2_train.txt')\n"
      ],
      "metadata": {
        "id": "heF5tVW_IWlx"
      },
      "execution_count": 5,
      "outputs": []
    },
    {
      "cell_type": "markdown",
      "source": [
        "Define the Model (Same as in train.ipynb)"
      ],
      "metadata": {
        "id": "xcxfvC61Jloh"
      }
    },
    {
      "cell_type": "code",
      "source": [
        "class Encoder(nn.Module):\n",
        "    def __init__(self, input_vocab_size, emb_dim, enc_hid_dim):\n",
        "        super().__init__()\n",
        "        self.embedding = nn.Embedding(input_vocab_size, emb_dim)\n",
        "        self.rnn = nn.GRU(emb_dim, enc_hid_dim, bidirectional=True, batch_first=True)\n",
        "\n",
        "    def forward(self, x):\n",
        "        embedded = self.embedding(x)\n",
        "        outputs, hidden = self.rnn(embedded)\n",
        "        hidden = torch.cat((hidden[-2, :, :], hidden[-1, :, :]), dim=1)\n",
        "        return outputs, hidden\n",
        "\n",
        "class BahdanauAttention(nn.Module):\n",
        "    def __init__(self, enc_hid_dim, dec_hid_dim):\n",
        "        super().__init__()\n",
        "        self.W_a = nn.Linear(dec_hid_dim, dec_hid_dim)\n",
        "        self.U_a = nn.Linear(enc_hid_dim * 2, dec_hid_dim)\n",
        "        self.v = nn.Linear(dec_hid_dim, 1, bias=False)\n",
        "\n",
        "    def forward(self, hidden, encoder_outputs):\n",
        "        projected_hidden = self.W_a(hidden.unsqueeze(1))\n",
        "        energy = torch.tanh(projected_hidden + self.U_a(encoder_outputs))\n",
        "        attention = self.v(energy).squeeze(2)\n",
        "        attention_weights = torch.softmax(attention, dim=1)\n",
        "        return attention_weights\n",
        "\n",
        "class Decoder(nn.Module):\n",
        "    def __init__(self, output_vocab_size, emb_dim, enc_hid_dim, dec_hid_dim):\n",
        "        super().__init__()\n",
        "        self.output_vocab_size = output_vocab_size\n",
        "        self.attention = BahdanauAttention(enc_hid_dim, dec_hid_dim)\n",
        "        self.embedding = nn.Embedding(output_vocab_size, emb_dim)\n",
        "        self.rnn = nn.GRU((enc_hid_dim * 2) + emb_dim, dec_hid_dim, batch_first=True)\n",
        "        self.fc = nn.Linear(dec_hid_dim, output_vocab_size)\n",
        "\n",
        "    def forward(self, x, hidden, encoder_outputs):\n",
        "        x = x.unsqueeze(1)\n",
        "        embedded = self.embedding(x)\n",
        "        attention_weights = self.attention(hidden, encoder_outputs)\n",
        "        attention_weights = attention_weights.unsqueeze(1)\n",
        "        context_vector = torch.bmm(attention_weights, encoder_outputs)\n",
        "        rnn_input = torch.cat((embedded, context_vector), dim=2)\n",
        "        output, hidden = self.rnn(rnn_input, hidden.unsqueeze(0))\n",
        "        prediction = self.fc(output.squeeze(1))\n",
        "        return prediction, hidden.squeeze(0), attention_weights.squeeze(1)\n",
        "\n",
        "class Seq2Seq(nn.Module):\n",
        "    def __init__(self, encoder, decoder, device):\n",
        "        super().__init__()\n",
        "        self.encoder = encoder\n",
        "        self.decoder = decoder\n",
        "        self.device = device\n",
        "\n",
        "    def forward(self, input, target, teacher_forcing_ratio=0.5):\n",
        "        batch_size = input.shape[0]\n",
        "        target_len = target.shape[1]\n",
        "        target_vocab_size = self.decoder.output_vocab_size\n",
        "\n",
        "        outputs = torch.zeros(batch_size, target_len - 1, target_vocab_size).to(self.device)\n",
        "        attention_scores = torch.zeros(batch_size, target_len - 1, input.shape[1]).to(self.device)\n",
        "\n",
        "        encoder_outputs, hidden = self.encoder(input)\n",
        "        x = target[:, 0]  # <SOS> token\n",
        "\n",
        "        for t in range(1, target_len):\n",
        "            output, hidden, attention_weights = self.decoder(x, hidden, encoder_outputs)\n",
        "            attention_scores[:, t - 1] = attention_weights\n",
        "            outputs[:, t - 1] = output\n",
        "            teacher_force = torch.rand(1) < teacher_forcing_ratio\n",
        "            top1 = output.argmax(1)\n",
        "            x = target[:, t] if teacher_force else top1\n",
        "\n",
        "        return outputs, attention_scores\n",
        "\n",
        "# Set model parameters\n",
        "input_vocab_size = len(input_vocab)\n",
        "output_vocab_size = len(output_vocab)\n",
        "embedding_size = 128\n",
        "enc_hidden_size = 128\n",
        "dec_hidden_size = 2 * 128\n",
        "device = torch.device('cuda' if torch.cuda.is_available() else 'cpu')\n",
        "\n",
        "# Initialize the model\n",
        "encoder = Encoder(input_vocab_size, embedding_size, enc_hidden_size)\n",
        "decoder = Decoder(output_vocab_size, embedding_size, enc_hidden_size, dec_hidden_size)\n",
        "model = Seq2Seq(encoder, decoder, device).to(device)"
      ],
      "metadata": {
        "id": "mXZ_g8-AJjUC"
      },
      "execution_count": 6,
      "outputs": []
    },
    {
      "cell_type": "markdown",
      "source": [
        "Load the Trained Model"
      ],
      "metadata": {
        "id": "dzaoznGzJxYN"
      }
    },
    {
      "cell_type": "code",
      "source": [
        "model.load_state_dict(torch.load('/content/model.pth', map_location=device))\n",
        "model.eval()"
      ],
      "metadata": {
        "colab": {
          "base_uri": "https://localhost:8080/"
        },
        "id": "EEH0vuVSJvbN",
        "outputId": "46500117-2740-46f3-d538-91cfb6238010"
      },
      "execution_count": 7,
      "outputs": [
        {
          "output_type": "stream",
          "name": "stderr",
          "text": [
            "<ipython-input-7-6f57abfef6f9>:1: FutureWarning: You are using `torch.load` with `weights_only=False` (the current default value), which uses the default pickle module implicitly. It is possible to construct malicious pickle data which will execute arbitrary code during unpickling (See https://github.com/pytorch/pytorch/blob/main/SECURITY.md#untrusted-models for more details). In a future release, the default value for `weights_only` will be flipped to `True`. This limits the functions that could be executed during unpickling. Arbitrary objects will no longer be allowed to be loaded via this mode unless they are explicitly allowlisted by the user via `torch.serialization.add_safe_globals`. We recommend you start setting `weights_only=True` for any use case where you don't have full control of the loaded file. Please open an issue on GitHub for any issues related to this experimental feature.\n",
            "  model.load_state_dict(torch.load('/content/model.pth', map_location=device))\n"
          ]
        },
        {
          "output_type": "execute_result",
          "data": {
            "text/plain": [
              "Seq2Seq(\n",
              "  (encoder): Encoder(\n",
              "    (embedding): Embedding(36, 128)\n",
              "    (rnn): GRU(128, 128, batch_first=True, bidirectional=True)\n",
              "  )\n",
              "  (decoder): Decoder(\n",
              "    (attention): BahdanauAttention(\n",
              "      (W_a): Linear(in_features=256, out_features=256, bias=True)\n",
              "      (U_a): Linear(in_features=256, out_features=256, bias=True)\n",
              "      (v): Linear(in_features=256, out_features=1, bias=False)\n",
              "    )\n",
              "    (embedding): Embedding(15, 128)\n",
              "    (rnn): GRU(384, 256, batch_first=True)\n",
              "    (fc): Linear(in_features=256, out_features=15, bias=True)\n",
              "  )\n",
              ")"
            ]
          },
          "metadata": {},
          "execution_count": 7
        }
      ]
    },
    {
      "cell_type": "markdown",
      "source": [
        "Define Prediction Function"
      ],
      "metadata": {
        "id": "vDTPb8e-J4H6"
      }
    },
    {
      "cell_type": "code",
      "source": [
        "def predict(model, src, src_vocab, tgt_vocab, tgt_inv_vocab, max_len, device):\n",
        "    src_seq = [src_vocab.get(char, src_vocab['<UNK>']) for char in src]\n",
        "    src_tensor = torch.tensor(src_seq).unsqueeze(0).to(device)\n",
        "    tgt_seq = [tgt_vocab['<SOS>']] + [tgt_vocab['<PAD>']] * max_len + [tgt_vocab['<EOS>']]\n",
        "    tgt_tensor = torch.tensor(tgt_seq).unsqueeze(0).to(device)\n",
        "    outputs, _ = model(src_tensor, tgt_tensor, 0)\n",
        "    outputs = outputs.squeeze(0)\n",
        "    decoder_outputs = []\n",
        "    for output in outputs:\n",
        "        output_token = output.argmax(0).item()\n",
        "        if output_token == tgt_vocab['<EOS>']:\n",
        "            break\n",
        "        decoder_outputs.append(tgt_inv_vocab[output_token])\n",
        "    return \"\".join(decoder_outputs)\n"
      ],
      "metadata": {
        "id": "v3hW8AMMJ2D_"
      },
      "execution_count": 8,
      "outputs": []
    },
    {
      "cell_type": "markdown",
      "source": [
        "Load Test Dataset and Make Predictions"
      ],
      "metadata": {
        "id": "5x8vGRroJ78t"
      }
    },
    {
      "cell_type": "code",
      "source": [
        "test_data = []\n",
        "with open('/content/Assignment2_validation.txt', 'r') as file:\n",
        "    for line in file:\n",
        "        input_sent = line.strip().strip(\"'\")\n",
        "        test_data.append(input_sent)\n",
        "\n",
        "# Make predictions\n",
        "max_output_len = 10\n",
        "predicted_outputs = []\n",
        "for input_sent in test_data:\n",
        "    output = predict(model, input_sent, input_vocab, output_vocab, output_vocab_inv, max_output_len, device)\n",
        "    predicted_outputs.append(output)\n"
      ],
      "metadata": {
        "id": "raNPuFKCJ6NS"
      },
      "execution_count": 9,
      "outputs": []
    },
    {
      "cell_type": "markdown",
      "source": [
        "Save Output in Excel Format"
      ],
      "metadata": {
        "id": "a9t9b7a7KEWt"
      }
    },
    {
      "cell_type": "code",
      "source": [
        "# Save predictions to Excel\n",
        "df = pd.DataFrame({'Input': test_data, 'Predicted Output': predicted_outputs})\n",
        "df.to_excel('predictions.xlsx', index=False)\n",
        "print(\"Predictions saved to 'predictions.xlsx'\")"
      ],
      "metadata": {
        "colab": {
          "base_uri": "https://localhost:8080/"
        },
        "id": "6fn6kCNZKA0t",
        "outputId": "fedb9b2f-03c1-4aed-fec6-2fdfdc35e0d6"
      },
      "execution_count": 10,
      "outputs": [
        {
          "output_type": "stream",
          "name": "stdout",
          "text": [
            "Predictions saved to 'predictions.xlsx'\n"
          ]
        }
      ]
    },
    {
      "cell_type": "code",
      "source": [],
      "metadata": {
        "id": "CRFEG2V0KVBo"
      },
      "execution_count": null,
      "outputs": []
    }
  ]
}