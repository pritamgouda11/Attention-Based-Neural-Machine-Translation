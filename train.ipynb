{
  "cells": [
    {
      "cell_type": "markdown",
      "metadata": {
        "id": "INkT1U1-GFSK"
      },
      "source": [
        "Import Necessary Libraries"
      ]
    },
    {
      "cell_type": "code",
      "execution_count": null,
      "metadata": {
        "id": "xilGYCZLF9yh"
      },
      "outputs": [],
      "source": [
        "import torch\n",
        "import torch.nn as nn\n",
        "import torch.optim as optim\n",
        "import torch.nn.functional as F\n",
        "from torch.utils.data import Dataset, DataLoader\n",
        "import numpy as np\n",
        "import matplotlib.pyplot as plt\n",
        "from collections import defaultdict\n",
        "from matplotlib.ticker import FixedLocator\n",
        "import os"
      ]
    },
    {
      "cell_type": "markdown",
      "metadata": {
        "id": "JgK-1GQgGKpK"
      },
      "source": [
        "Build Vocabulary"
      ]
    },
    {
      "cell_type": "code",
      "execution_count": null,
      "metadata": {
        "id": "R3yS-mHnGIyw"
      },
      "outputs": [],
      "source": [
        "# Function to build the vocabulary\n",
        "def build_vocab(file_path):\n",
        "    \"\"\"\n",
        "    Args:\n",
        "        file_path (str): Path to the dataset file.\n",
        "\n",
        "    Returns:\n",
        "        tuple: input_vocab, output_vocab, input_vocab_inv, output_vocab_inv\n",
        "    \"\"\"\n",
        "    input_vocab = defaultdict(lambda: len(input_vocab))\n",
        "    output_vocab = defaultdict(lambda: len(output_vocab))\n",
        "\n",
        "    input_vocab['<PAD>'] = 0\n",
        "    input_vocab['<UNK>'] = 1\n",
        "    output_vocab['<PAD>'] = 0\n",
        "    output_vocab['<UNK>'] = 1\n",
        "    output_vocab['<SOS>'] = 2\n",
        "    output_vocab['<EOS>'] = 3\n",
        "\n",
        "    with open(file_path, 'r') as file:\n",
        "        for line in file:\n",
        "            input_sent, output_sent = line.strip().split(',')\n",
        "            input_sent = input_sent.strip().strip(\"'\")\n",
        "            output_sent = output_sent.strip().strip(\"'\")\n",
        "\n",
        "            for char in input_sent:\n",
        "                input_vocab[char]\n",
        "            for char in output_sent:\n",
        "                output_vocab[char]\n",
        "\n",
        "    input_vocab = dict(input_vocab)\n",
        "    output_vocab = dict(output_vocab)\n",
        "    input_vocab_inv = {v: k for k, v in input_vocab.items()}\n",
        "    output_vocab_inv = {v: k for k, v in output_vocab.items()}\n",
        "\n",
        "    return input_vocab, output_vocab, input_vocab_inv, output_vocab_inv\n",
        "\n",
        "# Build vocabularies\n",
        "input_vocab, output_vocab, input_vocab_inv, output_vocab_inv = build_vocab('/content/train.txt')"
      ]
    },
    {
      "cell_type": "markdown",
      "metadata": {
        "id": "rFMjSCjlGTzP"
      },
      "source": [
        "Create DataLoader"
      ]
    },
    {
      "cell_type": "code",
      "execution_count": null,
      "metadata": {
        "id": "u2v-haGxGVUE"
      },
      "outputs": [],
      "source": [
        "class DateTranslationDataset(Dataset):\n",
        "    def __init__(self, file_path, input_vocab, output_vocab, max_input_len, max_output_len=10):\n",
        "        \"\"\"\n",
        "        Args:\n",
        "            file_path (str): Path to the data file.\n",
        "            input_vocab (dict): Input vocabulary.\n",
        "            output_vocab (dict): Output vocabulary.\n",
        "            max_input_len (int): Maximum length of input sequence.\n",
        "            max_output_len (int): Maximum length of output sequence.\n",
        "        \"\"\"\n",
        "        self.input_vocab = input_vocab\n",
        "        self.output_vocab = output_vocab\n",
        "        self.max_input_len = max_input_len\n",
        "        self.max_output_len = max_output_len\n",
        "        self.data = self.load_data(file_path)\n",
        "\n",
        "    def __len__(self):\n",
        "        return len(self.data)\n",
        "\n",
        "    def __getitem__(self, idx):\n",
        "        return torch.tensor(self.data[idx][0]), torch.tensor(self.data[idx][1])\n",
        "\n",
        "    def load_data(self, file_path):\n",
        "        data = []\n",
        "        with open(file_path, 'r') as file:\n",
        "            for line in file:\n",
        "                input_sent, output_sent = line.strip().split(',')\n",
        "                input_sent = input_sent.strip().strip(\"'\")\n",
        "                output_sent = output_sent.strip().strip(\"'\")\n",
        "\n",
        "                input_ids = [self.input_vocab.get(char, self.input_vocab['<UNK>']) for char in input_sent][:self.max_input_len]\n",
        "                output_ids = [self.output_vocab.get(char, self.output_vocab['<UNK>']) for char in output_sent][:self.max_output_len]\n",
        "\n",
        "                # Padding on left side\n",
        "                input_ids = [self.input_vocab['<PAD>']] * (self.max_input_len - len(input_ids)) + input_ids\n",
        "                output_ids = [self.output_vocab['<PAD>']] * (self.max_output_len - len(output_ids)) + output_ids\n",
        "\n",
        "                output_ids = [self.output_vocab['<SOS>']] + output_ids + [self.output_vocab['<EOS>']]\n",
        "\n",
        "                data.append((input_ids, output_ids))\n",
        "        return data\n",
        "\n",
        "def get_dataloader(file_path, input_vocab, output_vocab, max_input_len, max_output_len, batch_size):\n",
        "    dataset = DateTranslationDataset(file_path, input_vocab, output_vocab, max_input_len, max_output_len)\n",
        "    dataloader = DataLoader(dataset, batch_size=batch_size, shuffle=True)\n",
        "    return dataloader\n",
        "\n",
        "# Set parameters and create dataloaders\n",
        "max_input_len = 20\n",
        "max_output_len = 10\n",
        "batch_size = 32\n",
        "\n",
        "trainloader = get_dataloader('/content/train.txt', input_vocab, output_vocab, max_input_len, max_output_len, batch_size)\n",
        "validloader = get_dataloader('/content/validation.txt', input_vocab, output_vocab, max_input_len, max_output_len, batch_size)"
      ]
    },
    {
      "cell_type": "markdown",
      "metadata": {
        "id": "NLVyGuszGvji"
      },
      "source": [
        "Define the Model"
      ]
    },
    {
      "cell_type": "code",
      "execution_count": null,
      "metadata": {
        "id": "NWHsXQTKGYVZ"
      },
      "outputs": [],
      "source": [
        "class Encoder(nn.Module):\n",
        "    def __init__(self, input_vocab_size, emb_dim, enc_hid_dim):\n",
        "        super().__init__()\n",
        "        self.embedding = nn.Embedding(input_vocab_size, emb_dim)\n",
        "        self.rnn = nn.GRU(emb_dim, enc_hid_dim, bidirectional=True, batch_first=True)\n",
        "\n",
        "    def forward(self, x):\n",
        "        embedded = self.embedding(x)\n",
        "        outputs, hidden = self.rnn(embedded)\n",
        "        hidden = torch.cat((hidden[-2, :, :], hidden[-1, :, :]), dim=1)\n",
        "        return outputs, hidden\n",
        "\n",
        "class BahdanauAttention(nn.Module):\n",
        "    def __init__(self, enc_hid_dim, dec_hid_dim):\n",
        "        super().__init__()\n",
        "        self.W_a = nn.Linear(dec_hid_dim, dec_hid_dim)\n",
        "        self.U_a = nn.Linear(enc_hid_dim * 2, dec_hid_dim)\n",
        "        self.v = nn.Linear(dec_hid_dim, 1, bias=False)\n",
        "\n",
        "    def forward(self, hidden, encoder_outputs):\n",
        "        projected_hidden = self.W_a(hidden.unsqueeze(1))\n",
        "        energy = torch.tanh(projected_hidden + self.U_a(encoder_outputs))\n",
        "        attention = self.v(energy).squeeze(2)\n",
        "        attention_weights = torch.softmax(attention, dim=1)\n",
        "        return attention_weights\n",
        "\n",
        "class Decoder(nn.Module):\n",
        "    def __init__(self, output_vocab_size, emb_dim, enc_hid_dim, dec_hid_dim):\n",
        "        super().__init__()\n",
        "        self.output_vocab_size = output_vocab_size\n",
        "        self.attention = BahdanauAttention(enc_hid_dim, dec_hid_dim)\n",
        "        self.embedding = nn.Embedding(output_vocab_size, emb_dim)\n",
        "        self.rnn = nn.GRU((enc_hid_dim * 2) + emb_dim, dec_hid_dim, batch_first=True)\n",
        "        self.fc = nn.Linear(dec_hid_dim, output_vocab_size)\n",
        "\n",
        "    def forward(self, x, hidden, encoder_outputs):\n",
        "        x = x.unsqueeze(1)\n",
        "        embedded = self.embedding(x)\n",
        "        attention_weights = self.attention(hidden, encoder_outputs)\n",
        "        attention_weights = attention_weights.unsqueeze(1)\n",
        "        context_vector = torch.bmm(attention_weights, encoder_outputs)\n",
        "        rnn_input = torch.cat((embedded, context_vector), dim=2)\n",
        "        output, hidden = self.rnn(rnn_input, hidden.unsqueeze(0))\n",
        "        prediction = self.fc(output.squeeze(1))\n",
        "        return prediction, hidden.squeeze(0), attention_weights.squeeze(1)\n",
        "\n",
        "class Seq2Seq(nn.Module):\n",
        "    def __init__(self, encoder, decoder, device):\n",
        "        super().__init__()\n",
        "        self.encoder = encoder\n",
        "        self.decoder = decoder\n",
        "        self.device = device\n",
        "\n",
        "    def forward(self, input, target, teacher_forcing_ratio=0.5):\n",
        "        batch_size = input.shape[0]\n",
        "        target_len = target.shape[1]\n",
        "        target_vocab_size = self.decoder.output_vocab_size\n",
        "\n",
        "        outputs = torch.zeros(batch_size, target_len - 1, target_vocab_size).to(self.device)\n",
        "        attention_scores = torch.zeros(batch_size, target_len - 1, input.shape[1]).to(self.device)\n",
        "\n",
        "        encoder_outputs, hidden = self.encoder(input)\n",
        "        x = target[:, 0]  # <SOS> token\n",
        "\n",
        "        for t in range(1, target_len):\n",
        "            output, hidden, attention_weights = self.decoder(x, hidden, encoder_outputs)\n",
        "            attention_scores[:, t - 1] = attention_weights\n",
        "            outputs[:, t - 1] = output\n",
        "            teacher_force = torch.rand(1) < teacher_forcing_ratio\n",
        "            top1 = output.argmax(1)\n",
        "            x = target[:, t] if teacher_force else top1\n",
        "\n",
        "        return outputs, attention_scores\n",
        "\n",
        "# Set model parameters\n",
        "input_vocab_size = len(input_vocab)\n",
        "output_vocab_size = len(output_vocab)\n",
        "embedding_size = 128\n",
        "enc_hidden_size = 128\n",
        "dec_hidden_size = 2 * 128\n",
        "device = torch.device('cuda' if torch.cuda.is_available() else 'cpu')\n",
        "\n",
        "# Initialize the model\n",
        "encoder = Encoder(input_vocab_size, embedding_size, enc_hidden_size)\n",
        "decoder = Decoder(output_vocab_size, embedding_size, enc_hidden_size, dec_hidden_size)\n",
        "model = Seq2Seq(encoder, decoder, device).to(device)"
      ]
    },
    {
      "cell_type": "markdown",
      "metadata": {
        "id": "qE3ftvknGzUT"
      },
      "source": [
        "Training Functions"
      ]
    },
    {
      "cell_type": "code",
      "execution_count": null,
      "metadata": {
        "id": "eLAJe8hbGxTL"
      },
      "outputs": [],
      "source": [
        "def train_model(model, trainloader, validloader, epochs, optimizer, criterion, device):\n",
        "    model.train()\n",
        "    for epoch in range(epochs):\n",
        "        model.train()\n",
        "        epoch_loss = 0\n",
        "        print('*' * 20 + f'Epoch {epoch + 1}' + '*' * 20)\n",
        "        for src, tgt in trainloader:\n",
        "            src = src.to(device)\n",
        "            tgt = tgt.to(device)\n",
        "            optimizer.zero_grad()\n",
        "            output, _ = model(src, tgt)\n",
        "            tgt = tgt[:, 1:]\n",
        "            output_dim = output.shape[-1]\n",
        "            output = output.reshape(-1, output_dim)\n",
        "            tgt = tgt.reshape(-1)\n",
        "            loss = criterion(output, tgt)\n",
        "            loss.backward()\n",
        "            optimizer.step()\n",
        "            epoch_loss += loss.item()\n",
        "        print(f'Epoch: {epoch + 1:02}')\n",
        "        print(f'Train Loss: {epoch_loss / len(trainloader):.3f}')\n",
        "        print(f'Validation Loss: {evaluate_model(model, validloader, criterion, device):.3f}')\n",
        "    # Save the model\n",
        "    if not os.path.exists('Models'):\n",
        "        os.makedirs('Models')\n",
        "    torch.save(model.state_dict(), 'Models/model.pth')\n",
        "\n",
        "def evaluate_model(model, validloader, criterion, device):\n",
        "    model.eval()\n",
        "    epoch_loss = 0\n",
        "    with torch.no_grad():\n",
        "        for src, tgt in validloader:\n",
        "            src = src.to(device)\n",
        "            tgt = tgt.to(device)\n",
        "            output, _ = model(src, tgt, 0)  # Turn off teacher forcing\n",
        "            output_dim = output.shape[-1]\n",
        "            output = output.reshape(-1, output_dim)\n",
        "            tgt = tgt[:, 1:]\n",
        "            tgt = tgt.reshape(-1)\n",
        "            loss = criterion(output, tgt)\n",
        "            epoch_loss += loss.item()\n",
        "    return epoch_loss / len(validloader)"
      ]
    },
    {
      "cell_type": "markdown",
      "metadata": {
        "id": "tiuUDTESG3k3"
      },
      "source": [
        "Train the Model"
      ]
    },
    {
      "cell_type": "code",
      "execution_count": null,
      "metadata": {
        "colab": {
          "background_save": true,
          "base_uri": "https://localhost:8080/"
        },
        "id": "J6r2hoLNG2V-",
        "outputId": "5fc970d3-1a8a-4928-d98d-2024aa4a5c5d"
      },
      "outputs": [
        {
          "name": "stdout",
          "output_type": "stream",
          "text": [
            "********************Epoch 1********************\n",
            "Epoch: 01\n",
            "Train Loss: 0.175\n",
            "Validation Loss: 0.064\n",
            "********************Epoch 2********************\n",
            "Epoch: 02\n",
            "Train Loss: 0.066\n",
            "Validation Loss: 0.067\n",
            "********************Epoch 3********************\n",
            "Epoch: 03\n",
            "Train Loss: 0.064\n",
            "Validation Loss: 0.062\n",
            "********************Epoch 4********************\n",
            "Epoch: 04\n",
            "Train Loss: 0.064\n",
            "Validation Loss: 0.063\n",
            "********************Epoch 5********************\n",
            "Epoch: 05\n",
            "Train Loss: 0.063\n",
            "Validation Loss: 0.063\n",
            "********************Epoch 6********************\n",
            "Epoch: 06\n",
            "Train Loss: 0.065\n",
            "Validation Loss: 0.063\n",
            "********************Epoch 7********************\n",
            "Epoch: 07\n",
            "Train Loss: 0.063\n",
            "Validation Loss: 0.065\n",
            "********************Epoch 8********************\n",
            "Epoch: 08\n",
            "Train Loss: 0.063\n",
            "Validation Loss: 0.062\n",
            "********************Epoch 9********************\n",
            "Epoch: 09\n",
            "Train Loss: 0.063\n",
            "Validation Loss: 0.062\n",
            "********************Epoch 10********************\n",
            "Epoch: 10\n",
            "Train Loss: 0.062\n",
            "Validation Loss: 0.065\n"
          ]
        }
      ],
      "source": [
        "# Training parameters\n",
        "learning_rate = 0.001\n",
        "num_epochs = 10\n",
        "criterion = nn.CrossEntropyLoss(ignore_index=output_vocab['<PAD>'])\n",
        "optimizer = optim.Adam(model.parameters(), lr=learning_rate)\n",
        "\n",
        "# Train the model\n",
        "train_model(model, trainloader, validloader, num_epochs, optimizer, criterion, device)"
      ]
    },
    {
      "cell_type": "markdown",
      "metadata": {
        "id": "rqZO6jUVHAsS"
      },
      "source": [
        "Visualize Attention"
      ]
    },
    {
      "cell_type": "code",
      "execution_count": null,
      "metadata": {
        "colab": {
          "background_save": true
        },
        "id": "JP5405XiG6ij",
        "outputId": "f36dd006-f202-4dc3-f3d1-df694a63cfda"
      },
      "outputs": [
        {
          "name": "stdout",
          "output_type": "stream",
          "text": [
            "Source: 29 February 2020\n",
            "Predicted: 2020-02-29\n"
          ]
        },
        {
          "data": {
            "image/png": "[encoded data removed]",
            "text/plain": [
              "<Figure size 1200x1200 with 2 Axes>"
            ]
          },
          "metadata": {},
          "output_type": "display_data"
        },
        {
          "data": {
            "text/plain": [
              "<Figure size 640x480 with 0 Axes>"
            ]
          },
          "metadata": {},
          "output_type": "display_data"
        }
      ],
      "source": [
        "def predict(model, src, src_vocab, tgt_vocab, tgt_inv_vocab, max_len, device):\n",
        "    model.eval()\n",
        "    src_seq = [src_vocab.get(char, src_vocab['<UNK>']) for char in src]\n",
        "    src_tensor = torch.tensor(src_seq).unsqueeze(0).to(device)\n",
        "    tgt_seq = [tgt_vocab['<SOS>']] + [tgt_vocab['<PAD>']] * max_len + [tgt_vocab['<EOS>']]\n",
        "    tgt_tensor = torch.tensor(tgt_seq).unsqueeze(0).to(device)\n",
        "    outputs, attention_scores = model(src_tensor, tgt_tensor, 0)\n",
        "    outputs = outputs.squeeze(0)\n",
        "    decoder_outputs = []\n",
        "    for output in outputs:\n",
        "        output_token = output.argmax(0).item()\n",
        "        if output_token == tgt_vocab['<EOS>']:\n",
        "            break\n",
        "        decoder_outputs.append(tgt_inv_vocab[output_token])\n",
        "    return decoder_outputs, attention_scores\n",
        "\n",
        "def attention_visualization(model, src, input_vocab, output_vocab, output_vocab_inv, max_output_len, device):\n",
        "    outputs, attention_scores = predict(model, src, input_vocab, output_vocab, output_vocab_inv, max_output_len, device)\n",
        "    src_tokens = [char for char in src]\n",
        "    tgt_tokens = outputs\n",
        "    attention_scores = attention_scores.squeeze(0).cpu().detach().numpy()\n",
        "    print('Source:', src)\n",
        "    print('Predicted:', \"\".join(outputs))\n",
        "    fig, ax = plt.subplots(figsize=(12, 12))\n",
        "    cax = ax.matshow(attention_scores, cmap='bone')\n",
        "    ax.set_xticks(np.arange(len(src_tokens)))\n",
        "    ax.set_yticks(np.arange(len(tgt_tokens)))\n",
        "    ax.set_xticklabels(src_tokens, rotation=90)\n",
        "    ax.set_yticklabels(tgt_tokens)\n",
        "    ax.set_xlabel('Input Sequence')\n",
        "    ax.set_ylabel('Output Sequence')\n",
        "    fig.colorbar(cax)\n",
        "    plt.show()\n",
        "    # Save the plot\n",
        "    if not os.path.exists('plots'):\n",
        "        os.makedirs('plots')\n",
        "    plt.savefig('plots/attention.png')\n",
        "\n",
        "# Example usage\n",
        "attention_visualization(model, '29 February 2020', input_vocab, output_vocab, output_vocab_inv, max_output_len, device)"
      ]
    },
    {
      "cell_type": "code",
      "execution_count": null,
      "metadata": {
        "colab": {
          "background_save": true
        },
        "id": "5Y6c2vxiH8lU"
      },
      "outputs": [],
      "source": []
    }
  ],
  "metadata": {
    "colab": {
      "provenance": []
    },
    "kernelspec": {
      "display_name": "Python 3",
      "name": "python3"
    },
    "language_info": {
      "name": "python"
    }
  },
  "nbformat": 4,
  "nbformat_minor": 0
}